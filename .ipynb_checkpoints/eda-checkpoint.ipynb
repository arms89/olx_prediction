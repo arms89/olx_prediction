{
 "cells": [
  {
   "cell_type": "code",
   "execution_count": 93,
   "metadata": {},
   "outputs": [],
   "source": [
    "# Exploratory data analysis\n",
    "\n",
    "import pandas as pd\n",
    "import numpy as np\n",
    "\n",
    "import matplotlib.pyplot as plt\n",
    "import seaborn as sns\n"
   ]
  },
  {
   "cell_type": "code",
   "execution_count": 94,
   "metadata": {},
   "outputs": [
    {
     "data": {
      "text/html": [
       "<div>\n",
       "<style scoped>\n",
       "    .dataframe tbody tr th:only-of-type {\n",
       "        vertical-align: middle;\n",
       "    }\n",
       "\n",
       "    .dataframe tbody tr th {\n",
       "        vertical-align: top;\n",
       "    }\n",
       "\n",
       "    .dataframe thead th {\n",
       "        text-align: right;\n",
       "    }\n",
       "</style>\n",
       "<table border=\"1\" class=\"dataframe\">\n",
       "  <thead>\n",
       "    <tr style=\"text-align: right;\">\n",
       "      <th></th>\n",
       "      <th>value_make</th>\n",
       "      <th>value_model</th>\n",
       "      <th>value_variant</th>\n",
       "      <th>value_year</th>\n",
       "      <th>value_petrol</th>\n",
       "      <th>value_transmission</th>\n",
       "      <th>value_mileage</th>\n",
       "      <th>value_first_owner</th>\n",
       "      <th>itemPrice</th>\n",
       "      <th>itemTitle</th>\n",
       "      <th>itemDescriptionContent</th>\n",
       "      <th>locality</th>\n",
       "      <th>district</th>\n",
       "      <th>State</th>\n",
       "    </tr>\n",
       "  </thead>\n",
       "  <tbody>\n",
       "    <tr>\n",
       "      <th>0</th>\n",
       "      <td>Mahindra</td>\n",
       "      <td>Xylo</td>\n",
       "      <td>D2 BS IV</td>\n",
       "      <td>2010.0</td>\n",
       "      <td>Diesel</td>\n",
       "      <td>Manual</td>\n",
       "      <td>160000</td>\n",
       "      <td>First</td>\n",
       "      <td>423000</td>\n",
       "      <td>Chevrolet Tavera Neo SS D1 8-Str BS-III, 2013,...</td>\n",
       "      <td>ADDITIONAL VEHICLE INFORMATION:\\nColor: Gold\\n...</td>\n",
       "      <td>Nungambakkam</td>\n",
       "      <td>Chennai</td>\n",
       "      <td>Tamil Nadu</td>\n",
       "    </tr>\n",
       "    <tr>\n",
       "      <th>1</th>\n",
       "      <td>Maruti Suzuki</td>\n",
       "      <td>A-Star</td>\n",
       "      <td>NaN</td>\n",
       "      <td>2010.0</td>\n",
       "      <td>Petrol</td>\n",
       "      <td>Manual</td>\n",
       "      <td>138925</td>\n",
       "      <td>NaN</td>\n",
       "      <td>240000</td>\n",
       "      <td>Chevrolet Beat LT- Top model full company main...</td>\n",
       "      <td>currency : inr, variant: zxi, number of previo...</td>\n",
       "      <td>Trichy City</td>\n",
       "      <td>Tiruchirappalli</td>\n",
       "      <td>Tamil Nadu</td>\n",
       "    </tr>\n",
       "    <tr>\n",
       "      <th>2</th>\n",
       "      <td>Volkswagen</td>\n",
       "      <td>Vento</td>\n",
       "      <td>2010-2013 Diesel Highline</td>\n",
       "      <td>2011.0</td>\n",
       "      <td>Diesel</td>\n",
       "      <td>Manual</td>\n",
       "      <td>82000</td>\n",
       "      <td>First</td>\n",
       "      <td>465000</td>\n",
       "      <td>Volkswagen Vento Highline Diesel, 2014, Diesel</td>\n",
       "      <td>AC PS PW CL ABS AIRBAGS ALLOY WHEEL COMPANY SE...</td>\n",
       "      <td>Thillai Nagar</td>\n",
       "      <td>Tiruchirappalli</td>\n",
       "      <td>Tamil Nadu</td>\n",
       "    </tr>\n",
       "    <tr>\n",
       "      <th>3</th>\n",
       "      <td>Maruti Suzuki</td>\n",
       "      <td>Eeco</td>\n",
       "      <td>5 STR WITH A/C+HTR</td>\n",
       "      <td>2018.0</td>\n",
       "      <td>Petrol</td>\n",
       "      <td>Manual</td>\n",
       "      <td>25000</td>\n",
       "      <td>First</td>\n",
       "      <td>385000</td>\n",
       "      <td>2015 Hyundai I10 petrol 36000 Kms</td>\n",
       "      <td>EECO WITH A/C + HTR 2018 Single owner 25000 Ki...</td>\n",
       "      <td>Terkku Vasal</td>\n",
       "      <td>Madurai</td>\n",
       "      <td>Tamil Nadu</td>\n",
       "    </tr>\n",
       "    <tr>\n",
       "      <th>4</th>\n",
       "      <td>Toyota</td>\n",
       "      <td>Innova</td>\n",
       "      <td>2004-2011 2.0 V</td>\n",
       "      <td>2014.0</td>\n",
       "      <td>Diesel</td>\n",
       "      <td>Manual</td>\n",
       "      <td>62000</td>\n",
       "      <td>First</td>\n",
       "      <td>1375000</td>\n",
       "      <td>Toyota INNOVA CRYSTA 2.4 GX Manual 8S, 2016, D...</td>\n",
       "      <td>ADDITIONAL VEHICLE INFORMATION:\\nColor: Grey\\n...</td>\n",
       "      <td>Nungambakkam</td>\n",
       "      <td>Chennai</td>\n",
       "      <td>Tamil Nadu</td>\n",
       "    </tr>\n",
       "  </tbody>\n",
       "</table>\n",
       "</div>"
      ],
      "text/plain": [
       "      value_make value_model              value_variant  value_year  \\\n",
       "0       Mahindra        Xylo                   D2 BS IV      2010.0   \n",
       "1  Maruti Suzuki      A-Star                        NaN      2010.0   \n",
       "2     Volkswagen       Vento  2010-2013 Diesel Highline      2011.0   \n",
       "3  Maruti Suzuki        Eeco         5 STR WITH A/C+HTR      2018.0   \n",
       "4         Toyota      Innova            2004-2011 2.0 V      2014.0   \n",
       "\n",
       "  value_petrol value_transmission  value_mileage value_first_owner  itemPrice  \\\n",
       "0       Diesel             Manual         160000             First     423000   \n",
       "1       Petrol             Manual         138925               NaN     240000   \n",
       "2       Diesel             Manual          82000             First     465000   \n",
       "3       Petrol             Manual          25000             First     385000   \n",
       "4       Diesel             Manual          62000             First    1375000   \n",
       "\n",
       "                                           itemTitle  \\\n",
       "0  Chevrolet Tavera Neo SS D1 8-Str BS-III, 2013,...   \n",
       "1  Chevrolet Beat LT- Top model full company main...   \n",
       "2     Volkswagen Vento Highline Diesel, 2014, Diesel   \n",
       "3                  2015 Hyundai I10 petrol 36000 Kms   \n",
       "4  Toyota INNOVA CRYSTA 2.4 GX Manual 8S, 2016, D...   \n",
       "\n",
       "                              itemDescriptionContent       locality  \\\n",
       "0  ADDITIONAL VEHICLE INFORMATION:\\nColor: Gold\\n...   Nungambakkam   \n",
       "1  currency : inr, variant: zxi, number of previo...    Trichy City   \n",
       "2  AC PS PW CL ABS AIRBAGS ALLOY WHEEL COMPANY SE...  Thillai Nagar   \n",
       "3  EECO WITH A/C + HTR 2018 Single owner 25000 Ki...   Terkku Vasal   \n",
       "4  ADDITIONAL VEHICLE INFORMATION:\\nColor: Grey\\n...   Nungambakkam   \n",
       "\n",
       "           district        State  \n",
       "0           Chennai   Tamil Nadu  \n",
       "1   Tiruchirappalli   Tamil Nadu  \n",
       "2   Tiruchirappalli   Tamil Nadu  \n",
       "3           Madurai   Tamil Nadu  \n",
       "4           Chennai   Tamil Nadu  "
      ]
     },
     "execution_count": 94,
     "metadata": {},
     "output_type": "execute_result"
    }
   ],
   "source": [
    "loaded_data = pd.read_csv('data_cleaned.csv')\n",
    "loaded_data.head()"
   ]
  },
  {
   "cell_type": "code",
   "execution_count": 95,
   "metadata": {},
   "outputs": [
    {
     "data": {
      "text/plain": [
       "Index(['value_make', 'value_model', 'value_variant', 'value_year',\n",
       "       'value_petrol', 'value_transmission', 'value_mileage',\n",
       "       'value_first_owner', 'itemPrice', 'itemTitle', 'itemDescriptionContent',\n",
       "       'locality', 'district', 'State'],\n",
       "      dtype='object')"
      ]
     },
     "execution_count": 95,
     "metadata": {},
     "output_type": "execute_result"
    }
   ],
   "source": [
    "loaded_data.columns"
   ]
  },
  {
   "cell_type": "code",
   "execution_count": 96,
   "metadata": {},
   "outputs": [],
   "source": [
    "# Remove unwanted columns and rows\n",
    "\n",
    "unwanted_columns = ['itemDescriptionContent', 'itemTitle', 'State', ]\n",
    "columns_removed_data = loaded_data.drop(unwanted_columns, axis=1)\n",
    "columns_removed_data = columns_removed_data[columns_removed_data['value_make']!='Suzuki']"
   ]
  },
  {
   "cell_type": "code",
   "execution_count": 97,
   "metadata": {},
   "outputs": [
    {
     "data": {
      "text/html": [
       "<div>\n",
       "<style scoped>\n",
       "    .dataframe tbody tr th:only-of-type {\n",
       "        vertical-align: middle;\n",
       "    }\n",
       "\n",
       "    .dataframe tbody tr th {\n",
       "        vertical-align: top;\n",
       "    }\n",
       "\n",
       "    .dataframe thead th {\n",
       "        text-align: right;\n",
       "    }\n",
       "</style>\n",
       "<table border=\"1\" class=\"dataframe\">\n",
       "  <thead>\n",
       "    <tr style=\"text-align: right;\">\n",
       "      <th></th>\n",
       "      <th>value_make</th>\n",
       "      <th>value_model</th>\n",
       "      <th>value_variant</th>\n",
       "      <th>value_year</th>\n",
       "      <th>value_petrol</th>\n",
       "      <th>value_transmission</th>\n",
       "      <th>value_mileage</th>\n",
       "      <th>value_first_owner</th>\n",
       "      <th>itemPrice</th>\n",
       "      <th>locality</th>\n",
       "      <th>district</th>\n",
       "    </tr>\n",
       "  </thead>\n",
       "  <tbody>\n",
       "    <tr>\n",
       "      <th>0</th>\n",
       "      <td>Mahindra</td>\n",
       "      <td>Xylo</td>\n",
       "      <td>D2 BS IV</td>\n",
       "      <td>2010.0</td>\n",
       "      <td>Diesel</td>\n",
       "      <td>Manual</td>\n",
       "      <td>160000</td>\n",
       "      <td>First</td>\n",
       "      <td>423000</td>\n",
       "      <td>Nungambakkam</td>\n",
       "      <td>Chennai</td>\n",
       "    </tr>\n",
       "    <tr>\n",
       "      <th>1</th>\n",
       "      <td>Maruti Suzuki</td>\n",
       "      <td>A-Star</td>\n",
       "      <td>NaN</td>\n",
       "      <td>2010.0</td>\n",
       "      <td>Petrol</td>\n",
       "      <td>Manual</td>\n",
       "      <td>138925</td>\n",
       "      <td>NaN</td>\n",
       "      <td>240000</td>\n",
       "      <td>Trichy City</td>\n",
       "      <td>Tiruchirappalli</td>\n",
       "    </tr>\n",
       "    <tr>\n",
       "      <th>2</th>\n",
       "      <td>Volkswagen</td>\n",
       "      <td>Vento</td>\n",
       "      <td>2010-2013 Diesel Highline</td>\n",
       "      <td>2011.0</td>\n",
       "      <td>Diesel</td>\n",
       "      <td>Manual</td>\n",
       "      <td>82000</td>\n",
       "      <td>First</td>\n",
       "      <td>465000</td>\n",
       "      <td>Thillai Nagar</td>\n",
       "      <td>Tiruchirappalli</td>\n",
       "    </tr>\n",
       "    <tr>\n",
       "      <th>3</th>\n",
       "      <td>Maruti Suzuki</td>\n",
       "      <td>Eeco</td>\n",
       "      <td>5 STR WITH A/C+HTR</td>\n",
       "      <td>2018.0</td>\n",
       "      <td>Petrol</td>\n",
       "      <td>Manual</td>\n",
       "      <td>25000</td>\n",
       "      <td>First</td>\n",
       "      <td>385000</td>\n",
       "      <td>Terkku Vasal</td>\n",
       "      <td>Madurai</td>\n",
       "    </tr>\n",
       "    <tr>\n",
       "      <th>4</th>\n",
       "      <td>Toyota</td>\n",
       "      <td>Innova</td>\n",
       "      <td>2004-2011 2.0 V</td>\n",
       "      <td>2014.0</td>\n",
       "      <td>Diesel</td>\n",
       "      <td>Manual</td>\n",
       "      <td>62000</td>\n",
       "      <td>First</td>\n",
       "      <td>1375000</td>\n",
       "      <td>Nungambakkam</td>\n",
       "      <td>Chennai</td>\n",
       "    </tr>\n",
       "  </tbody>\n",
       "</table>\n",
       "</div>"
      ],
      "text/plain": [
       "      value_make value_model              value_variant  value_year  \\\n",
       "0       Mahindra        Xylo                   D2 BS IV      2010.0   \n",
       "1  Maruti Suzuki      A-Star                        NaN      2010.0   \n",
       "2     Volkswagen       Vento  2010-2013 Diesel Highline      2011.0   \n",
       "3  Maruti Suzuki        Eeco         5 STR WITH A/C+HTR      2018.0   \n",
       "4         Toyota      Innova            2004-2011 2.0 V      2014.0   \n",
       "\n",
       "  value_petrol value_transmission  value_mileage value_first_owner  itemPrice  \\\n",
       "0       Diesel             Manual         160000             First     423000   \n",
       "1       Petrol             Manual         138925               NaN     240000   \n",
       "2       Diesel             Manual          82000             First     465000   \n",
       "3       Petrol             Manual          25000             First     385000   \n",
       "4       Diesel             Manual          62000             First    1375000   \n",
       "\n",
       "        locality          district  \n",
       "0   Nungambakkam           Chennai  \n",
       "1    Trichy City   Tiruchirappalli  \n",
       "2  Thillai Nagar   Tiruchirappalli  \n",
       "3   Terkku Vasal           Madurai  \n",
       "4   Nungambakkam           Chennai  "
      ]
     },
     "execution_count": 97,
     "metadata": {},
     "output_type": "execute_result"
    }
   ],
   "source": [
    "columns_removed_data.head()"
   ]
  },
  {
   "cell_type": "code",
   "execution_count": 98,
   "metadata": {},
   "outputs": [
    {
     "data": {
      "text/html": [
       "<div>\n",
       "<style scoped>\n",
       "    .dataframe tbody tr th:only-of-type {\n",
       "        vertical-align: middle;\n",
       "    }\n",
       "\n",
       "    .dataframe tbody tr th {\n",
       "        vertical-align: top;\n",
       "    }\n",
       "\n",
       "    .dataframe thead th {\n",
       "        text-align: right;\n",
       "    }\n",
       "</style>\n",
       "<table border=\"1\" class=\"dataframe\">\n",
       "  <thead>\n",
       "    <tr style=\"text-align: right;\">\n",
       "      <th></th>\n",
       "      <th>value_year</th>\n",
       "      <th>value_mileage</th>\n",
       "      <th>itemPrice</th>\n",
       "    </tr>\n",
       "  </thead>\n",
       "  <tbody>\n",
       "    <tr>\n",
       "      <th>count</th>\n",
       "      <td>2550.000000</td>\n",
       "      <td>2550.000000</td>\n",
       "      <td>2550.000000</td>\n",
       "    </tr>\n",
       "    <tr>\n",
       "      <th>mean</th>\n",
       "      <td>2012.127451</td>\n",
       "      <td>85582.368235</td>\n",
       "      <td>494347.000000</td>\n",
       "    </tr>\n",
       "    <tr>\n",
       "      <th>std</th>\n",
       "      <td>4.830902</td>\n",
       "      <td>65218.010355</td>\n",
       "      <td>518894.143453</td>\n",
       "    </tr>\n",
       "    <tr>\n",
       "      <th>min</th>\n",
       "      <td>1959.000000</td>\n",
       "      <td>0.000000</td>\n",
       "      <td>45000.000000</td>\n",
       "    </tr>\n",
       "    <tr>\n",
       "      <th>25%</th>\n",
       "      <td>2009.000000</td>\n",
       "      <td>47000.000000</td>\n",
       "      <td>235000.000000</td>\n",
       "    </tr>\n",
       "    <tr>\n",
       "      <th>50%</th>\n",
       "      <td>2013.000000</td>\n",
       "      <td>78000.000000</td>\n",
       "      <td>385000.000000</td>\n",
       "    </tr>\n",
       "    <tr>\n",
       "      <th>75%</th>\n",
       "      <td>2016.000000</td>\n",
       "      <td>109000.000000</td>\n",
       "      <td>600000.000000</td>\n",
       "    </tr>\n",
       "    <tr>\n",
       "      <th>max</th>\n",
       "      <td>2020.000000</td>\n",
       "      <td>980000.000000</td>\n",
       "      <td>8000000.000000</td>\n",
       "    </tr>\n",
       "  </tbody>\n",
       "</table>\n",
       "</div>"
      ],
      "text/plain": [
       "        value_year  value_mileage       itemPrice\n",
       "count  2550.000000    2550.000000     2550.000000\n",
       "mean   2012.127451   85582.368235   494347.000000\n",
       "std       4.830902   65218.010355   518894.143453\n",
       "min    1959.000000       0.000000    45000.000000\n",
       "25%    2009.000000   47000.000000   235000.000000\n",
       "50%    2013.000000   78000.000000   385000.000000\n",
       "75%    2016.000000  109000.000000   600000.000000\n",
       "max    2020.000000  980000.000000  8000000.000000"
      ]
     },
     "execution_count": 98,
     "metadata": {},
     "output_type": "execute_result"
    }
   ],
   "source": [
    "# First analyse continous variables\n",
    "\n",
    "columns_removed_data.describe().apply(lambda col: col.apply(lambda value: format(value, 'f')))"
   ]
  },
  {
   "cell_type": "markdown",
   "metadata": {},
   "source": [
    "Observations:\n",
    "\n",
    "value_year starts from 1959 to current year 2020, some classic cars might be there!\n",
    "\n",
    "Mileage varies from 0 to 9,80,000\n",
    "\n",
    "Price of car ranges from 45,000, which is interesting, \n",
    "because while data collection price filter was set at starting 50,000 and above\n"
   ]
  },
  {
   "cell_type": "code",
   "execution_count": 99,
   "metadata": {},
   "outputs": [
    {
     "data": {
      "text/plain": [
       "<AxesSubplot:xlabel='value_make'>"
      ]
     },
     "execution_count": 99,
     "metadata": {},
     "output_type": "execute_result"
    },
    {
     "data": {
      "image/png": "[encoded data removed]",
      "text/plain": [
       "<Figure size 1512x648 with 1 Axes>"
      ]
     },
     "metadata": {
      "needs_background": "light"
     },
     "output_type": "display_data"
    }
   ],
   "source": [
    "# Analyse the available brands in resales\n",
    "\n",
    "brand = columns_removed_data.groupby('value_make')['value_make'].count().sort_values(ascending=False)\n",
    "plt.figure(figsize=(21,9))\n",
    "brand.plot(kind = \"bar\")"
   ]
  },
  {
   "cell_type": "markdown",
   "metadata": {},
   "source": [
    "Seems like \"Maruti Suzuki\" dominates the resale market, followed by \"Hyundai\", \"Toyota\", \"Tata\" and so on...\n",
    "\n"
   ]
  },
  {
   "cell_type": "code",
   "execution_count": 77,
   "metadata": {},
   "outputs": [
    {
     "data": {
      "image/png": "[encoded data removed]",
      "text/plain": [
       "<Figure size 1512x648 with 1 Axes>"
      ]
     },
     "metadata": {
      "needs_background": "light"
     },
     "output_type": "display_data"
    }
   ],
   "source": [
    "# See distribution of price for each brand\n",
    "plt.figure(figsize=(21,9))\n",
    "chart = sns.boxplot(x = 'value_make', \n",
    "                    y = 'itemPrice', \n",
    "                    data = columns_removed_data.sort_values('value_make'))\n",
    "chart.set_xticklabels(chart.get_xticklabels(), \n",
    "                      rotation = 90, \n",
    "                      fontsize=12);"
   ]
  },
  {
   "cell_type": "markdown",
   "metadata": {},
   "source": [
    "Land Rover and Jaguar are the top 2 costliest, followed by Mercedes-Benz, Audi, BMW"
   ]
  },
  {
   "cell_type": "code",
   "execution_count": null,
   "metadata": {},
   "outputs": [],
   "source": []
  }
 ],
 "metadata": {
  "kernelspec": {
   "display_name": "Python 3",
   "language": "python",
   "name": "python3"
  },
  "language_info": {
   "codemirror_mode": {
    "name": "ipython",
    "version": 3
   },
   "file_extension": ".py",
   "mimetype": "text/x-python",
   "name": "python",
   "nbconvert_exporter": "python",
   "pygments_lexer": "ipython3",
   "version": "3.7.9"
  }
 },
 "nbformat": 4,
 "nbformat_minor": 4
}
